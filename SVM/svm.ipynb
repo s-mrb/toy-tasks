{
  "nbformat": 4,
  "nbformat_minor": 0,
  "metadata": {
    "kernelspec": {
      "display_name": "Python 3",
      "language": "python",
      "name": "python3"
    },
    "language_info": {
      "codemirror_mode": {
        "name": "ipython",
        "version": 3
      },
      "file_extension": ".py",
      "mimetype": "text/x-python",
      "name": "python",
      "nbconvert_exporter": "python",
      "pygments_lexer": "ipython3",
      "version": "3.6.7"
    },
    "latex_envs": {
      "LaTeX_envs_menu_present": true,
      "autoclose": false,
      "autocomplete": true,
      "bibliofile": "biblio.bib",
      "cite_by": "apalike",
      "current_citInitial": 1,
      "eqLabelWithNumbers": true,
      "eqNumInitial": 1,
      "hotkeys": {
        "equation": "Ctrl-E",
        "itemize": "Ctrl-I"
      },
      "labels_anchors": false,
      "latex_user_defs": false,
      "report_style_numbering": false,
      "user_envs_cfg": false
    },
    "toc": {
      "base_numbering": 1,
      "nav_menu": {},
      "number_sections": true,
      "sideBar": true,
      "skip_h1_title": false,
      "title_cell": "Table of Contents",
      "title_sidebar": "Contents",
      "toc_cell": false,
      "toc_position": {},
      "toc_section_display": true,
      "toc_window_display": false
    },
    "varInspector": {
      "cols": {
        "lenName": 16,
        "lenType": 16,
        "lenVar": 40
      },
      "kernels_config": {
        "python": {
          "delete_cmd_postfix": "",
          "delete_cmd_prefix": "del ",
          "library": "var_list.py",
          "varRefreshCmd": "print(var_dic_list())"
        },
        "r": {
          "delete_cmd_postfix": ") ",
          "delete_cmd_prefix": "rm(",
          "library": "var_list.r",
          "varRefreshCmd": "cat(var_dic_list()) "
        }
      },
      "types_to_exclude": [
        "module",
        "function",
        "builtin_function_or_method",
        "instance",
        "_Feature"
      ],
      "window_display": false
    },
    "colab": {
      "name": "svm.ipynb",
      "provenance": []
    }
  },
  "cells": [
    {
      "cell_type": "markdown",
      "metadata": {
        "id": "TAWb3LYNTRYN"
      },
      "source": [
        "\n",
        "\n",
        "[![Open In Colab](https://colab.research.google.com/assets/colab-badge.svg)](https://colab.research.google.com/github/akshayrb22/playing-with-data/blob/master/supervised_learning/support_vector_machine/svm.ipynb)\n"
      ]
    },
    {
      "cell_type": "markdown",
      "metadata": {
        "id": "cb03qEOagQuK"
      },
      "source": [
        "#SVM Concept (Credits not mine)"
      ]
    },
    {
      "cell_type": "markdown",
      "metadata": {
        "id": "YchF4c-5TRYR"
      },
      "source": [
        "## Support Vector Machine Classification\n",
        "\n",
        "\n",
        "## What will we do?\n",
        "\n",
        "We will build a Support Vector Machine that will find the optimal hyperplane that maximizes the margin between two toy data classes using gradient descent.  \n",
        "\n",
        "![alt text](http://opticalengineering.spiedigitallibrary.org/data/journals/optice/24850/oe_52_2_027003_f005.png \"Logo Title Text 1\")\n",
        "\n",
        "\n",
        "## What are some use cases for SVMs?\n",
        "\n",
        "-Classification, regression (time series prediction, etc) , outlier detection, clustering\n",
        "\n",
        "\n",
        "## How does an SVM compare to other ML algorithms?\n",
        "\n",
        "![alt text](https://image.slidesharecdn.com/mscpresentation-140722065852-phpapp01/95/msc-presentation-bioinformatics-7-638.jpg?cb=1406012610 \"Logo Title Text 1\")\n",
        "\n",
        "- As a rule of thumb, SVMs are great for relatively small data sets with fewer outliers. \n",
        "- Other algorithms (Random forests, deep neural networks, etc.) require more data but almost always come up with very robust models.\n",
        "- The decision of which classifier to use depends on your dataset and the general complexity of the problem.\n",
        "- \"Premature optimization is the root of all evil (or at least most of it) in programming.\" - Donald Knuth, CS Professor (Turing award speech 1974)  \n",
        "\n",
        "\n",
        "## What is a Support Vector Machine?\n",
        "\n",
        "It's a supervised machine learning algorithm which can be used for both classification or regression problems. But it's usually used for classification. Given 2 or more labeled classes of data, it acts as a discriminative classifier, formally defined by an optimal hyperplane that seperates all the classes. New examples that are then mapped into that same space can then be categorized based on on which side of the gap they fall.\n",
        "\n",
        "## What are Support Vectors?\n",
        "\n",
        "![alt text](https://www.dtreg.com/uploaded/pageimg/SvmMargin2.jpg \"Logo Title Text 1\")\n",
        " \n",
        "Support vectors are the data points nearest to the hyperplane, the points of a data set that, if removed, would alter the position of the dividing hyperplane. Because of this, they can be considered the critical elements of a data set, they are what help us build our SVM. \n",
        "\n",
        "## Whats a hyperplane?\n",
        "\n",
        "![alt text](http://slideplayer.com/slide/1579281/5/images/32/Hyperplanes+as+decision+surfaces.jpg \"Logo Title Text 1\")\n",
        "\n",
        "Geometry tells us that a hyperplane is a subspace of one dimension less than its ambient space. For instance, a hyperplane of an n-dimensional space is a flat subset with dimension n − 1. By its nature, it separates the space into two half spaces.\n",
        "\n",
        "## Let's define our loss function (what to minimize) and our objective function (what to optimize)\n",
        "\n",
        "#### Loss function\n",
        "\n",
        "We'll use the Hinge loss. This is a loss function used for training classifiers. The hinge loss is used for \"maximum-margin\" classification, most notably for support vector machines (SVMs).\n",
        "\n",
        "![alt text](http://i.imgur.com/OzCwzyN.png \"Logo Title Text 1\")\n",
        "\n",
        "\n",
        "c is the loss function, x the sample, y is the true label, f(x) the predicted label.\n",
        "\n",
        "![alt text](http://i.imgur.com/FZ7JcG3.png \"Logo Title Text 1\")\n",
        "\n",
        " \n",
        "#### Objective Function\n",
        "\n",
        "![alt text](http://i.imgur.com/I5NNu44.png \"Logo Title Text 1\")\n",
        "\n",
        "As you can see, our objective of a SVM consists of two terms. The first term is a regularizer, the heart of the SVM, the second term the loss. The regularizer balances between margin maximization and loss. We want to find the decision surface that is maximally far away from any data points.\n",
        "\n",
        "How do we minimize our loss/optimize for our objective (i.e learn)?\n",
        "\n",
        "We have to derive our objective function to get the gradients! Gradient descent ftw.  As we have two terms, we will derive them seperately using the sum rule in differentiation.\n",
        "\n",
        "\n",
        "![alt text](http://i.imgur.com/6uK3BnH.png \"Logo Title Text 1\")\n",
        "\n",
        "This means, if we have a misclassified sample, we update the weight vector w using the gradients of both terms, else if classified correctly,we just update w by the gradient of the regularizer.\n",
        "\n",
        "\n",
        "\n",
        "Misclassification condition \n",
        "\n",
        "![alt text](http://i.imgur.com/g9QLAyn.png \"Logo Title Text 1\")\n",
        "\n",
        "Update rule for our weights (misclassified)\n",
        "\n",
        "![alt text](http://i.imgur.com/rkdPpTZ.png \"Logo Title Text 1\")\n",
        "\n",
        "including the learning rate η and the regularizer λ\n",
        "The learning rate is the length of the steps the algorithm makes down the gradient on the error curve.\n",
        "- Learning rate too high? The algorithm might overshoot the optimal point.\n",
        "- Learning rate too low? Could take too long to converge. Or never converge.\n",
        "\n",
        "The regularizer controls the trade off between the achieving a low training error and a low testing error that is the ability to generalize your classifier to unseen data. As a regulizing parameter we choose 1/epochs, so this parameter will decrease, as the number of epochs increases.\n",
        "- Regularizer too high? overfit (large testing error) \n",
        "- Regularizer too low? underfit (large training error) \n",
        "\n",
        "Update rule for our weights (correctly classified)\n",
        "\n",
        "![alt text](http://i.imgur.com/xTKbvZ6.png \"Logo Title Text 1\")\n"
      ]
    },
    {
      "cell_type": "markdown",
      "metadata": {
        "id": "HcB8Mr5lgk88"
      },
      "source": [
        "#Code"
      ]
    },
    {
      "cell_type": "markdown",
      "metadata": {
        "id": "M3I9X0eTgpZf"
      },
      "source": [
        "###Imports"
      ]
    },
    {
      "cell_type": "code",
      "metadata": {
        "id": "E2Qg1P-LTRYS"
      },
      "source": [
        "import pandas as pd\n",
        "from sklearn.model_selection import train_test_split\n",
        "from sklearn.svm import SVC\n",
        "\n",
        "from matplotlib import pyplot as plt\n",
        "%matplotlib inline"
      ],
      "execution_count": 52,
      "outputs": []
    },
    {
      "cell_type": "markdown",
      "metadata": {
        "id": "OgyOlMr0gvQP"
      },
      "source": [
        "###Download Required Flower Data"
      ]
    },
    {
      "cell_type": "code",
      "metadata": {
        "id": "H3VxLn-ug2G8",
        "outputId": "9244d16b-30b1-436b-d5ff-a7dfafa9ac02",
        "colab": {
          "base_uri": "https://localhost:8080/"
        }
      },
      "source": [
        "dir = '.'\r\n",
        "!gdown --id 1v5MT6hfE2rzdubarO3ZVLu0VkBr6Kud0 --output \"{dir}/data.zip\"\r\n",
        "f = dir + \"/data.zip\"\r\n",
        "data_p = \"/content/data/\"\r\n",
        "!mkdir \"$data_p\"\r\n",
        "\r\n",
        "!unzip \"$f\" -d \"$data_p\""
      ],
      "execution_count": 72,
      "outputs": [
        {
          "output_type": "stream",
          "text": [
            "Downloading...\n",
            "From: https://drive.google.com/uc?id=1v5MT6hfE2rzdubarO3ZVLu0VkBr6Kud0\n",
            "To: /content/data.zip\n",
            "\r  0% 0.00/1.34k [00:00<?, ?B/s]\r100% 1.34k/1.34k [00:00<00:00, 2.26MB/s]\n",
            "mkdir: cannot create directory ‘/content/data/’: File exists\n",
            "Archive:  ./data.zip\n",
            "  inflating: /content/data/TestSet1.csv  \n",
            "  inflating: /content/data/TrainingSet.csv  \n"
          ],
          "name": "stdout"
        }
      ]
    },
    {
      "cell_type": "markdown",
      "metadata": {
        "id": "P067IGXffphq"
      },
      "source": [
        "###Load Train and Test Data"
      ]
    },
    {
      "cell_type": "code",
      "metadata": {
        "colab": {
          "base_uri": "https://localhost:8080/"
        },
        "id": "FKUSCcffVZow",
        "outputId": "e2f84947-ff77-414a-a0c6-ffa98ee24ea0"
      },
      "source": [
        "train_df = pd.read_csv('./data/TrainingSet.csv')\r\n",
        "train_df.plant.unique()"
      ],
      "execution_count": 74,
      "outputs": [
        {
          "output_type": "execute_result",
          "data": {
            "text/plain": [
              "array(['Arctica', 'Harlequin', 'Carolinian'], dtype=object)"
            ]
          },
          "metadata": {
            "tags": []
          },
          "execution_count": 74
        }
      ]
    },
    {
      "cell_type": "code",
      "metadata": {
        "colab": {
          "base_uri": "https://localhost:8080/",
          "height": 204
        },
        "id": "VG9WpAdqZsUU",
        "outputId": "5d6f1238-bcb0-4eab-c2b5-136cffa2defb"
      },
      "source": [
        "test_df  = pd.read_csv('./data/TestSet1.csv') \r\n",
        "test_X = test_df.drop(['plant'], axis=1)\r\n",
        "test_X.head()"
      ],
      "execution_count": 75,
      "outputs": [
        {
          "output_type": "execute_result",
          "data": {
            "text/html": [
              "<div>\n",
              "<style scoped>\n",
              "    .dataframe tbody tr th:only-of-type {\n",
              "        vertical-align: middle;\n",
              "    }\n",
              "\n",
              "    .dataframe tbody tr th {\n",
              "        vertical-align: top;\n",
              "    }\n",
              "\n",
              "    .dataframe thead th {\n",
              "        text-align: right;\n",
              "    }\n",
              "</style>\n",
              "<table border=\"1\" class=\"dataframe\">\n",
              "  <thead>\n",
              "    <tr style=\"text-align: right;\">\n",
              "      <th></th>\n",
              "      <th>leaf.length</th>\n",
              "      <th>leaf.width</th>\n",
              "      <th>flower.length</th>\n",
              "      <th>flower.width</th>\n",
              "    </tr>\n",
              "  </thead>\n",
              "  <tbody>\n",
              "    <tr>\n",
              "      <th>0</th>\n",
              "      <td>4.4</td>\n",
              "      <td>2.9</td>\n",
              "      <td>1.4</td>\n",
              "      <td>0.2</td>\n",
              "    </tr>\n",
              "    <tr>\n",
              "      <th>1</th>\n",
              "      <td>4.6</td>\n",
              "      <td>3.1</td>\n",
              "      <td>1.5</td>\n",
              "      <td>0.2</td>\n",
              "    </tr>\n",
              "    <tr>\n",
              "      <th>2</th>\n",
              "      <td>4.6</td>\n",
              "      <td>3.4</td>\n",
              "      <td>1.4</td>\n",
              "      <td>0.3</td>\n",
              "    </tr>\n",
              "    <tr>\n",
              "      <th>3</th>\n",
              "      <td>4.7</td>\n",
              "      <td>3.2</td>\n",
              "      <td>1.3</td>\n",
              "      <td>0.2</td>\n",
              "    </tr>\n",
              "    <tr>\n",
              "      <th>4</th>\n",
              "      <td>4.9</td>\n",
              "      <td>3.0</td>\n",
              "      <td>1.4</td>\n",
              "      <td>0.2</td>\n",
              "    </tr>\n",
              "  </tbody>\n",
              "</table>\n",
              "</div>"
            ],
            "text/plain": [
              "   leaf.length  leaf.width  flower.length  flower.width\n",
              "0          4.4         2.9            1.4           0.2\n",
              "1          4.6         3.1            1.5           0.2\n",
              "2          4.6         3.4            1.4           0.3\n",
              "3          4.7         3.2            1.3           0.2\n",
              "4          4.9         3.0            1.4           0.2"
            ]
          },
          "metadata": {
            "tags": []
          },
          "execution_count": 75
        }
      ]
    },
    {
      "cell_type": "markdown",
      "metadata": {
        "id": "xW69pDuzfutr"
      },
      "source": [
        "### Separate Labels and Input Data"
      ]
    },
    {
      "cell_type": "code",
      "metadata": {
        "id": "rSlEU4OfVm64"
      },
      "source": [
        "# Extract Lables\r\n",
        "\r\n",
        "train_df['plant'] = train_df['plant'].map({\r\n",
        "    'Arctica': 1,\r\n",
        "    'Harlequin': 2,\r\n",
        "      'Carolinian':3\r\n",
        "})  # Label values - 1 for Arctica and 2 for Harlequin and vice versa\r\n"
      ],
      "execution_count": 76,
      "outputs": []
    },
    {
      "cell_type": "code",
      "metadata": {
        "colab": {
          "base_uri": "https://localhost:8080/",
          "height": 111
        },
        "id": "NurRfE3WWbeq",
        "outputId": "fcdc8f13-1731-45a5-895b-d3aabcba084f"
      },
      "source": [
        "train_df[0:2]"
      ],
      "execution_count": 77,
      "outputs": [
        {
          "output_type": "execute_result",
          "data": {
            "text/html": [
              "<div>\n",
              "<style scoped>\n",
              "    .dataframe tbody tr th:only-of-type {\n",
              "        vertical-align: middle;\n",
              "    }\n",
              "\n",
              "    .dataframe tbody tr th {\n",
              "        vertical-align: top;\n",
              "    }\n",
              "\n",
              "    .dataframe thead th {\n",
              "        text-align: right;\n",
              "    }\n",
              "</style>\n",
              "<table border=\"1\" class=\"dataframe\">\n",
              "  <thead>\n",
              "    <tr style=\"text-align: right;\">\n",
              "      <th></th>\n",
              "      <th>leaf.length</th>\n",
              "      <th>leaf.width</th>\n",
              "      <th>flower.length</th>\n",
              "      <th>flower.width</th>\n",
              "      <th>plant</th>\n",
              "    </tr>\n",
              "  </thead>\n",
              "  <tbody>\n",
              "    <tr>\n",
              "      <th>0</th>\n",
              "      <td>5.4</td>\n",
              "      <td>3.7</td>\n",
              "      <td>1.5</td>\n",
              "      <td>0.2</td>\n",
              "      <td>1</td>\n",
              "    </tr>\n",
              "    <tr>\n",
              "      <th>1</th>\n",
              "      <td>4.8</td>\n",
              "      <td>3.4</td>\n",
              "      <td>1.6</td>\n",
              "      <td>0.2</td>\n",
              "      <td>1</td>\n",
              "    </tr>\n",
              "  </tbody>\n",
              "</table>\n",
              "</div>"
            ],
            "text/plain": [
              "   leaf.length  leaf.width  flower.length  flower.width  plant\n",
              "0          5.4         3.7            1.5           0.2      1\n",
              "1          4.8         3.4            1.6           0.2      1"
            ]
          },
          "metadata": {
            "tags": []
          },
          "execution_count": 77
        }
      ]
    },
    {
      "cell_type": "code",
      "metadata": {
        "colab": {
          "base_uri": "https://localhost:8080/"
        },
        "id": "9lTuGMKOVy93",
        "outputId": "8d5f8095-7695-42e1-924e-c0f396bae981"
      },
      "source": [
        "# Extract all lables as list\r\n",
        "\r\n",
        "train_Y = train_df['plant'].tolist()\r\n",
        "train_Y[35:45]"
      ],
      "execution_count": 78,
      "outputs": [
        {
          "output_type": "execute_result",
          "data": {
            "text/plain": [
              "[1, 1, 1, 1, 1, 2, 2, 2, 2, 2]"
            ]
          },
          "metadata": {
            "tags": []
          },
          "execution_count": 78
        }
      ]
    },
    {
      "cell_type": "code",
      "metadata": {
        "colab": {
          "base_uri": "https://localhost:8080/",
          "height": 204
        },
        "id": "qW1S3WzKXB49",
        "outputId": "ccc5e74d-cf55-4e3f-c7dd-1326e063fce6"
      },
      "source": [
        "train_X = train_df.drop(['plant'], axis=1)\r\n",
        "train_X[0:5]"
      ],
      "execution_count": 79,
      "outputs": [
        {
          "output_type": "execute_result",
          "data": {
            "text/html": [
              "<div>\n",
              "<style scoped>\n",
              "    .dataframe tbody tr th:only-of-type {\n",
              "        vertical-align: middle;\n",
              "    }\n",
              "\n",
              "    .dataframe tbody tr th {\n",
              "        vertical-align: top;\n",
              "    }\n",
              "\n",
              "    .dataframe thead th {\n",
              "        text-align: right;\n",
              "    }\n",
              "</style>\n",
              "<table border=\"1\" class=\"dataframe\">\n",
              "  <thead>\n",
              "    <tr style=\"text-align: right;\">\n",
              "      <th></th>\n",
              "      <th>leaf.length</th>\n",
              "      <th>leaf.width</th>\n",
              "      <th>flower.length</th>\n",
              "      <th>flower.width</th>\n",
              "    </tr>\n",
              "  </thead>\n",
              "  <tbody>\n",
              "    <tr>\n",
              "      <th>0</th>\n",
              "      <td>5.4</td>\n",
              "      <td>3.7</td>\n",
              "      <td>1.5</td>\n",
              "      <td>0.2</td>\n",
              "    </tr>\n",
              "    <tr>\n",
              "      <th>1</th>\n",
              "      <td>4.8</td>\n",
              "      <td>3.4</td>\n",
              "      <td>1.6</td>\n",
              "      <td>0.2</td>\n",
              "    </tr>\n",
              "    <tr>\n",
              "      <th>2</th>\n",
              "      <td>4.8</td>\n",
              "      <td>3.0</td>\n",
              "      <td>1.4</td>\n",
              "      <td>0.1</td>\n",
              "    </tr>\n",
              "    <tr>\n",
              "      <th>3</th>\n",
              "      <td>4.3</td>\n",
              "      <td>3.0</td>\n",
              "      <td>1.1</td>\n",
              "      <td>0.1</td>\n",
              "    </tr>\n",
              "    <tr>\n",
              "      <th>4</th>\n",
              "      <td>5.8</td>\n",
              "      <td>4.0</td>\n",
              "      <td>1.2</td>\n",
              "      <td>0.2</td>\n",
              "    </tr>\n",
              "  </tbody>\n",
              "</table>\n",
              "</div>"
            ],
            "text/plain": [
              "   leaf.length  leaf.width  flower.length  flower.width\n",
              "0          5.4         3.7            1.5           0.2\n",
              "1          4.8         3.4            1.6           0.2\n",
              "2          4.8         3.0            1.4           0.1\n",
              "3          4.3         3.0            1.1           0.1\n",
              "4          5.8         4.0            1.2           0.2"
            ]
          },
          "metadata": {
            "tags": []
          },
          "execution_count": 79
        }
      ]
    },
    {
      "cell_type": "markdown",
      "metadata": {
        "id": "FOyGAxl2f5kb"
      },
      "source": [
        "###Make a Model"
      ]
    },
    {
      "cell_type": "code",
      "metadata": {
        "id": "aTNFXAHmX-gg"
      },
      "source": [
        "model = SVC(kernel='linear')"
      ],
      "execution_count": 80,
      "outputs": []
    },
    {
      "cell_type": "code",
      "metadata": {
        "colab": {
          "base_uri": "https://localhost:8080/"
        },
        "id": "MUErzrvDYG4R",
        "outputId": "9ee4d1aa-a94d-43c3-be9b-ba21e6d2f895"
      },
      "source": [
        "model.fit(train_X, train_Y)"
      ],
      "execution_count": 81,
      "outputs": [
        {
          "output_type": "execute_result",
          "data": {
            "text/plain": [
              "SVC(C=1.0, break_ties=False, cache_size=200, class_weight=None, coef0=0.0,\n",
              "    decision_function_shape='ovr', degree=3, gamma='scale', kernel='linear',\n",
              "    max_iter=-1, probability=False, random_state=None, shrinking=True,\n",
              "    tol=0.001, verbose=False)"
            ]
          },
          "metadata": {
            "tags": []
          },
          "execution_count": 81
        }
      ]
    },
    {
      "cell_type": "code",
      "metadata": {
        "colab": {
          "base_uri": "https://localhost:8080/"
        },
        "id": "4QSMjhM_Y5DF",
        "outputId": "7b8fbdd0-e5b0-4a07-bcf8-54434eb22726"
      },
      "source": [
        "predictions = model.predict(test_X)\r\n",
        "print(predictions)"
      ],
      "execution_count": 82,
      "outputs": [
        {
          "output_type": "stream",
          "text": [
            "[1 1 1 1 1 1 2 2 1 1 1 2 1 2 2 3 2 3 3 2 2 3 2 3 2 2 3 3 3 3]\n"
          ],
          "name": "stdout"
        }
      ]
    },
    {
      "cell_type": "markdown",
      "metadata": {
        "id": "hLAN_rvCf-Vf"
      },
      "source": [
        "###Create a csv file using test data and predictions"
      ]
    },
    {
      "cell_type": "code",
      "metadata": {
        "colab": {
          "base_uri": "https://localhost:8080/",
          "height": 204
        },
        "id": "LL3QqZY-c6_z",
        "outputId": "4ecbe096-adcc-442b-97a6-50e1dbc19aa0"
      },
      "source": [
        "# Inser Labels in Datafram\r\n",
        "\r\n",
        "test_X.insert(4, \"plant\", predictions)\r\n",
        "test_X.head()"
      ],
      "execution_count": 83,
      "outputs": [
        {
          "output_type": "execute_result",
          "data": {
            "text/html": [
              "<div>\n",
              "<style scoped>\n",
              "    .dataframe tbody tr th:only-of-type {\n",
              "        vertical-align: middle;\n",
              "    }\n",
              "\n",
              "    .dataframe tbody tr th {\n",
              "        vertical-align: top;\n",
              "    }\n",
              "\n",
              "    .dataframe thead th {\n",
              "        text-align: right;\n",
              "    }\n",
              "</style>\n",
              "<table border=\"1\" class=\"dataframe\">\n",
              "  <thead>\n",
              "    <tr style=\"text-align: right;\">\n",
              "      <th></th>\n",
              "      <th>leaf.length</th>\n",
              "      <th>leaf.width</th>\n",
              "      <th>flower.length</th>\n",
              "      <th>flower.width</th>\n",
              "      <th>plant</th>\n",
              "    </tr>\n",
              "  </thead>\n",
              "  <tbody>\n",
              "    <tr>\n",
              "      <th>0</th>\n",
              "      <td>4.4</td>\n",
              "      <td>2.9</td>\n",
              "      <td>1.4</td>\n",
              "      <td>0.2</td>\n",
              "      <td>1</td>\n",
              "    </tr>\n",
              "    <tr>\n",
              "      <th>1</th>\n",
              "      <td>4.6</td>\n",
              "      <td>3.1</td>\n",
              "      <td>1.5</td>\n",
              "      <td>0.2</td>\n",
              "      <td>1</td>\n",
              "    </tr>\n",
              "    <tr>\n",
              "      <th>2</th>\n",
              "      <td>4.6</td>\n",
              "      <td>3.4</td>\n",
              "      <td>1.4</td>\n",
              "      <td>0.3</td>\n",
              "      <td>1</td>\n",
              "    </tr>\n",
              "    <tr>\n",
              "      <th>3</th>\n",
              "      <td>4.7</td>\n",
              "      <td>3.2</td>\n",
              "      <td>1.3</td>\n",
              "      <td>0.2</td>\n",
              "      <td>1</td>\n",
              "    </tr>\n",
              "    <tr>\n",
              "      <th>4</th>\n",
              "      <td>4.9</td>\n",
              "      <td>3.0</td>\n",
              "      <td>1.4</td>\n",
              "      <td>0.2</td>\n",
              "      <td>1</td>\n",
              "    </tr>\n",
              "  </tbody>\n",
              "</table>\n",
              "</div>"
            ],
            "text/plain": [
              "   leaf.length  leaf.width  flower.length  flower.width  plant\n",
              "0          4.4         2.9            1.4           0.2      1\n",
              "1          4.6         3.1            1.5           0.2      1\n",
              "2          4.6         3.4            1.4           0.3      1\n",
              "3          4.7         3.2            1.3           0.2      1\n",
              "4          4.9         3.0            1.4           0.2      1"
            ]
          },
          "metadata": {
            "tags": []
          },
          "execution_count": 83
        }
      ]
    },
    {
      "cell_type": "code",
      "metadata": {
        "id": "PyU-hM3ZdgbT"
      },
      "source": [
        "# Write the file as csv\r\n",
        "test_X.to_csv('./data/TestSet1.csv')"
      ],
      "execution_count": 85,
      "outputs": []
    },
    {
      "cell_type": "code",
      "metadata": {
        "id": "Dub5NzOhTRYW"
      },
      "source": [
        "# percentage = model.score(X_test, y_test)"
      ],
      "execution_count": null,
      "outputs": []
    },
    {
      "cell_type": "code",
      "metadata": {
        "id": "yT3z4z-CTRYW"
      },
      "source": [
        "# from sklearn.metrics import confusion_matrix\n",
        "# res = confusion_matrix(y_test, predictions)\n",
        "# print(\"Confusion Matrix\")\n",
        "# print(res)\n",
        "# print(f\"Test Set: {len(X_test)}\")\n",
        "# print(f\"Accuracy = {percentage*100} %\")"
      ],
      "execution_count": null,
      "outputs": []
    }
  ]
}